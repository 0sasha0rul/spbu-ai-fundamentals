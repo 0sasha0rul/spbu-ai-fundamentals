{
 "cells": [
  {
   "cell_type": "markdown",
   "metadata": {},
   "source": [
    "# Интерфейсы scikit-learn"
   ]
  },
  {
   "cell_type": "code",
   "execution_count": null,
   "metadata": {},
   "outputs": [],
   "source": [
    "from sklearn.base import BaseEstimator, TransformerMixin, OneToOneFeatureMixin\n",
    "from sklearn.metrics import r2_score\n",
    "from sklearn.pipeline import Pipeline\n",
    "from sklearn.linear_model import LinearRegression\n",
    "import numpy as np\n",
    "from numpy.typing import NDArray"
   ]
  },
  {
   "cell_type": "markdown",
   "metadata": {},
   "source": [
    "## Estimator\n",
    "\n",
    "Для примера построим простой estimator, который в перспективе будет вычитать из признаков их среднее значение и после сдвигать признаки на заранее заданную константу"
   ]
  },
  {
   "cell_type": "code",
   "execution_count": null,
   "metadata": {},
   "outputs": [],
   "source": [
    "class SubtractMeanAndShiftEstimator(BaseEstimator):\n",
    "    def __init__(self, shift=0.):\n",
    "        self.shift: float = shift\n",
    "        self.means_: NDArray = None  # we add a trailing underscore for parameters which will be learnt in fit()\n",
    "\n",
    "    def fit(self, X: NDArray, y: NDArray = None):\n",
    "        # y is ignored here\n",
    "        self.means_ = X.mean(axis=0)  # the first axis corresponds to samples by default\n",
    "        return self"
   ]
  },
  {
   "cell_type": "code",
   "execution_count": null,
   "metadata": {},
   "outputs": [],
   "source": [
    "m = SubtractMeanAndShiftEstimator(shift=3)"
   ]
  },
  {
   "cell_type": "markdown",
   "metadata": {},
   "source": [
    "Метод `get_params()` реализован в `BaseEstimator`, и мы можем сразу использовать его для получения гиперпараметров модели. Это возможно, так как единственный гиперпараметр `shift` был передан как явное ключевое слово в контрукторе\n",
    "\n",
    "Обратите внимание, что соответствующий аттрибут класса должен совпадать с ключевым словом: `self.shift = shift`"
   ]
  },
  {
   "cell_type": "code",
   "execution_count": null,
   "metadata": {},
   "outputs": [],
   "source": [
    "m.get_params()"
   ]
  },
  {
   "cell_type": "markdown",
   "metadata": {},
   "source": [
    "Аналогично мы можем использовать `set_params()` для задания значений гиперпараметров. Этот метод пригодится при поиске оптимальных значений гиперпараметров"
   ]
  },
  {
   "cell_type": "code",
   "execution_count": null,
   "metadata": {},
   "outputs": [],
   "source": [
    "m.set_params(shift=5)\n",
    "m.get_params()"
   ]
  },
  {
   "cell_type": "code",
   "execution_count": null,
   "metadata": {},
   "outputs": [],
   "source": [
    "X = np.array([\n",
    "    [1, 10],\n",
    "    [3, 30],\n",
    "    [2, 20],\n",
    "])\n",
    "y = np.array([\n",
    "    [ 0, -8],\n",
    "    [ 2, 10],\n",
    "    [ 1,  1],\n",
    "])\n",
    "m.fit(X, y)"
   ]
  },
  {
   "cell_type": "markdown",
   "metadata": {},
   "source": [
    "## Predictor\n",
    "\n",
    "Рассмотрим тот же класс, но добавим к нему методы `predict()` и `score()`"
   ]
  },
  {
   "cell_type": "code",
   "execution_count": null,
   "metadata": {},
   "outputs": [],
   "source": [
    "class SubtractMeanAndShiftPredictor(BaseEstimator):\n",
    "    def __init__(self, shift=0.):\n",
    "        self.shift: float = shift\n",
    "        self.means_: NDArray = None  # we add a trailing underscore for parameters which will be learnt in fit()\n",
    "\n",
    "    def fit(self, X: NDArray, y: NDArray = None):\n",
    "        # y is ignored here\n",
    "        self.means_ = X.mean(axis=0)  # the first axis corresponds to samples by default\n",
    "        return self\n",
    "\n",
    "    def predict(self, X: NDArray) -> NDArray:\n",
    "        e = np.ones((X.shape[0], 1))\n",
    "        return X -  e @ self.means_.reshape(-1, 1).T + self.shift\n",
    "\n",
    "    def score(self, X: NDArray, y: NDArray) -> float:\n",
    "        return r2_score(y, self.predict(X))  # R2 \\in (-\\infty; 1] is the coefficient of determination"
   ]
  },
  {
   "cell_type": "markdown",
   "metadata": {},
   "source": [
    "Так как мы специально добавили небольшое отклонение в y, наш R2 чуть меньше 1"
   ]
  },
  {
   "cell_type": "code",
   "execution_count": null,
   "metadata": {},
   "outputs": [],
   "source": [
    "model = SubtractMeanAndShiftPredictor(shift=1)\n",
    "model.fit(X)\n",
    "model.predict(X)\n",
    "model.score(X, y)"
   ]
  },
  {
   "cell_type": "markdown",
   "metadata": {},
   "source": [
    "## Transformer\n",
    "\n",
    "Рассмотрим тот же класс, но добавим к нему метод `transform()`"
   ]
  },
  {
   "cell_type": "code",
   "execution_count": null,
   "metadata": {},
   "outputs": [],
   "source": [
    "class SubtractMeanAndShiftTransformer(BaseEstimator, OneToOneFeatureMixin, TransformerMixin):\n",
    "    def __init__(self, shift=0.):\n",
    "        self.shift: float = shift\n",
    "        self.means_: NDArray = None  # we add a trailing underscore for parameters which will be learnt in fit()\n",
    "\n",
    "    def fit(self, X: NDArray, y: NDArray = None):\n",
    "        # y is ignored here\n",
    "        self.means_ = X.mean(axis=0)  # the first axis corresponds to samples by default\n",
    "        return self\n",
    "\n",
    "    def transform(self, X: NDArray) -> NDArray:\n",
    "        e = np.ones((X.shape[0], 1))\n",
    "        return X -  e @ self.means_.reshape(-1, 1).T + self.shift"
   ]
  },
  {
   "cell_type": "code",
   "execution_count": null,
   "metadata": {},
   "outputs": [],
   "source": [
    "t = SubtractMeanAndShiftTransformer(shift=5)\n",
    "t.fit(X)\n",
    "t.transform(X)"
   ]
  },
  {
   "cell_type": "markdown",
   "metadata": {},
   "source": [
    "Так как мы добавили `TransformerMixin`, мы можем использовать метод `fit_transform()`, не реализуя его явно"
   ]
  },
  {
   "cell_type": "code",
   "execution_count": null,
   "metadata": {},
   "outputs": [],
   "source": [
    "t.fit_transform(X)"
   ]
  },
  {
   "cell_type": "markdown",
   "metadata": {},
   "source": [
    "Аналогично мы можем использовать метод `get_feature_names_out()`, так как мы добавили `OneToOneFeatureMixin`"
   ]
  },
  {
   "cell_type": "code",
   "execution_count": null,
   "metadata": {},
   "outputs": [],
   "source": [
    "t.get_feature_names_out(input_features=['x', 'y'])"
   ]
  },
  {
   "cell_type": "markdown",
   "metadata": {},
   "source": [
    "## Pipelines\n",
    "\n",
    "С помощью Pipeline мы можем производить последовательную обработку данных и выполнять предсказание в конце"
   ]
  },
  {
   "cell_type": "code",
   "execution_count": null,
   "metadata": {},
   "outputs": [],
   "source": [
    "X = np.array([\n",
    "    [1, 10],\n",
    "    [3, 30],\n",
    "    [2, 20],\n",
    "])\n",
    "y = np.array([\n",
    "    [0],\n",
    "    [2],\n",
    "    [1],\n",
    "])\n",
    "\n",
    "pipeline = Pipeline([\n",
    "    (\"shifter\", SubtractMeanAndShiftTransformer(shift=5)),\n",
    "    (\"regressor\", LinearRegression()),\n",
    "])\n",
    "...\n",
    "pipeline.fit(X, y)\n",
    "y_pred = pipeline.predict(X)\n",
    "print(y_pred)"
   ]
  },
  {
   "cell_type": "markdown",
   "metadata": {},
   "source": [
    "Pipeline хранит последовательные Estimators в аттрибуте `steps`"
   ]
  },
  {
   "cell_type": "code",
   "execution_count": null,
   "metadata": {},
   "outputs": [],
   "source": [
    "pipeline.steps"
   ]
  },
  {
   "cell_type": "markdown",
   "metadata": {},
   "source": [
    "Перейти к объекту i-го Estimator можно напрямую через `pipeline[i]`:"
   ]
  },
  {
   "cell_type": "code",
   "execution_count": null,
   "metadata": {},
   "outputs": [],
   "source": [
    "pipeline[0]"
   ]
  },
  {
   "cell_type": "code",
   "execution_count": null,
   "metadata": {},
   "outputs": [],
   "source": [
    "pipeline[1].coef_"
   ]
  },
  {
   "cell_type": "markdown",
   "metadata": {},
   "source": [
    "Так как Pipeline сам является Estimator, мы можем увидеть список его параметров:"
   ]
  },
  {
   "cell_type": "code",
   "execution_count": null,
   "metadata": {},
   "outputs": [],
   "source": [
    "pipeline.get_params()"
   ]
  },
  {
   "cell_type": "markdown",
   "metadata": {},
   "source": [
    "Видно, параметры промежуточных Estimator указаны как `<estimator>__<parameter>`. Следовательно, мы можем изменить параметры любого промежуточного Estimator:"
   ]
  },
  {
   "cell_type": "code",
   "execution_count": null,
   "metadata": {},
   "outputs": [],
   "source": [
    "pipeline.set_params(shifter__shift=10)\n",
    "pipeline.get_params()"
   ]
  }
 ],
 "metadata": {
  "interpreter": {
   "hash": "2b3714695f2307aafe7da52bf6e53e38bc5469a267534973be7d21c816457eaf"
  },
  "kernelspec": {
   "display_name": "Python 3.9.5 ('base')",
   "language": "python",
   "name": "python3"
  },
  "language_info": {
   "codemirror_mode": {
    "name": "ipython",
    "version": 3
   },
   "file_extension": ".py",
   "mimetype": "text/x-python",
   "name": "python",
   "nbconvert_exporter": "python",
   "pygments_lexer": "ipython3",
   "version": "3.9.5"
  },
  "orig_nbformat": 4
 },
 "nbformat": 4,
 "nbformat_minor": 2
}
